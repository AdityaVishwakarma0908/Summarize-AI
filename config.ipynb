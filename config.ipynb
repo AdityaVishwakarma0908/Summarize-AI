{
 "cells": [
  {
   "cell_type": "markdown",
   "id": "0ae29333",
   "metadata": {},
   "source": [
    "# Configuration of llama\n"
   ]
  },
  {
   "cell_type": "code",
   "execution_count": null,
   "id": "1cf0e1a0",
   "metadata": {},
   "outputs": [],
   "source": [
    "# using model llama3.2\n",
    "\n",
    "OLLAMA_API = \"http://localhost:11434/api/chat\"\n",
    "HEADERS = {\"Content-Type\": \"application/json\"}\n",
    "MODEL = \"llama3.2\"\n",
    "\n",
    "print(\"configuration is done ...\")"
   ]
  }
 ],
 "metadata": {
  "kernelspec": {
   "display_name": "Python 3",
   "language": "python",
   "name": "python3"
  },
  "language_info": {
   "name": "python",
   "version": "3.11.13"
  }
 },
 "nbformat": 4,
 "nbformat_minor": 5
}
