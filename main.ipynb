{
 "cells": [
  {
   "cell_type": "code",
   "execution_count": 4,
   "id": "c257ea13",
   "metadata": {},
   "outputs": [
    {
     "name": "stdout",
     "output_type": "stream",
     "text": [
      "configuration is done ...\n",
      "imports are done ...\n",
      "website class is done ...\n",
      "prompts are ready ...\n",
      "summary is ready ...\n"
     ]
    }
   ],
   "source": [
    "%run ./summarizer.ipynb"
   ]
  },
  {
   "cell_type": "markdown",
   "id": "10f019bf",
   "metadata": {},
   "source": [
    "# Here you can use display_summary() for get the website summary"
   ]
  },
  {
   "cell_type": "code",
   "execution_count": 5,
   "id": "6eaa94ca",
   "metadata": {},
   "outputs": [],
   "source": [
    "def display_summary(url):\n",
    "    summery = summarize(url)\n",
    "    display(Markdown(summery))"
   ]
  },
  {
   "cell_type": "code",
   "execution_count": 6,
   "id": "17aade30",
   "metadata": {},
   "outputs": [
    {
     "data": {
      "text/markdown": [
       "**Website Summary**\n",
       "======================\n",
       "\n",
       "The website \"Home - Edward Donner\" is a personal website belonging to Ed, the co-founder and CTO of Nebula.io. The website features Ed's bio, mentions his work on various AI-related projects, including LLMs (Large Language Models) and talent acquisition.\n",
       "\n",
       "**News and Announcements**\n",
       "==========================\n",
       "\n",
       "*   **New Course Announcement:** \"Connecting my courses – become an LLM expert and leader\" - May 28, 2025\n",
       "*   **AI Executive Briefing:** April 21, 2025\n",
       "*   **The Complete Agentic AI Engineering Course:** January 23, 2025\n",
       "*   **LLM Workshop – Hands-on with Agents – resources** - This is not a traditional announcement but seems to be a resource page\n",
       "\n",
       "**Additional Information**\n",
       "=========================\n",
       "\n",
       "*   Ed enjoys DJing, amateur electronic music production, and reading Hacker News.\n",
       "*   He co-founded Nebula.io, which applies AI to help people discover their potential and pursue their reason for being.\n",
       "*   Ed is also the founder and CEO of another AI startup (untapt), which was acquired in 2021."
      ],
      "text/plain": [
       "<IPython.core.display.Markdown object>"
      ]
     },
     "metadata": {},
     "output_type": "display_data"
    }
   ],
   "source": [
    "display_summary(\"https://edwarddonner.com\")"
   ]
  },
  {
   "cell_type": "code",
   "execution_count": null,
   "id": "f8ecdb67",
   "metadata": {},
   "outputs": [],
   "source": []
  },
  {
   "cell_type": "markdown",
   "id": "6c14709a",
   "metadata": {},
   "source": []
  }
 ],
 "metadata": {
  "kernelspec": {
   "display_name": "Python 3",
   "language": "python",
   "name": "python3"
  },
  "language_info": {
   "codemirror_mode": {
    "name": "ipython",
    "version": 3
   },
   "file_extension": ".py",
   "mimetype": "text/x-python",
   "name": "python",
   "nbconvert_exporter": "python",
   "pygments_lexer": "ipython3",
   "version": "3.11.13"
  }
 },
 "nbformat": 4,
 "nbformat_minor": 5
}
