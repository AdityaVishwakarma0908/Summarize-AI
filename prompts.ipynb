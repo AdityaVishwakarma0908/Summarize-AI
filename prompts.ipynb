{
 "cells": [
  {
   "cell_type": "markdown",
   "id": "d296e4c4",
   "metadata": {},
   "source": [
    "### importing the configuration and websetup"
   ]
  },
  {
   "cell_type": "code",
   "execution_count": 2,
   "id": "603d2e86",
   "metadata": {},
   "outputs": [
    {
     "name": "stdout",
     "output_type": "stream",
     "text": [
      "configuration is done ...\n",
      "imports are done ...\n",
      "website class is done ...\n"
     ]
    }
   ],
   "source": [
    "%run ./config.ipynb\n",
    "%run ./set_up.ipynb"
   ]
  },
  {
   "cell_type": "markdown",
   "id": "e24fdd0b",
   "metadata": {},
   "source": [
    "## Here are the system and usre prompts"
   ]
  },
  {
   "cell_type": "code",
   "execution_count": null,
   "id": "96129414",
   "metadata": {},
   "outputs": [],
   "source": [
    "summrerizer_system_prompt = \"You are an assistant that analyzes the contents of a website \\\n",
    "Respond in markdown.\""
   ]
  },
  {
   "cell_type": "code",
   "execution_count": null,
   "id": "145d371a",
   "metadata": {},
   "outputs": [],
   "source": [
    "def user_prompt_for(website):\n",
    "    user_prompt = f\"You are looking at a website titled {website.title}\"\n",
    "    user_prompt += \"\\nThe contents of this website is as follows; \\\n",
    "please provide a short summary of this website in markdown. \\\n",
    "If it includes news or announcements, then summarize these too.\\n\\n\"\n",
    "    user_prompt += website.text\n",
    "    return user_prompt"
   ]
  },
  {
   "cell_type": "code",
   "execution_count": 1,
   "id": "3ff3dc7a",
   "metadata": {},
   "outputs": [],
   "source": [
    "def messages_for(website):\n",
    "    return [\n",
    "        {\"role\": \"system\", \"content\": summrerizer_system_prompt},\n",
    "        {\"role\": \"user\", \"content\": user_prompt_for(website)}\n",
    "    ]"
   ]
  },
  {
   "cell_type": "code",
   "execution_count": null,
   "id": "2cac1760",
   "metadata": {},
   "outputs": [],
   "source": [
    "print(\"prompts are ready ...\")"
   ]
  }
 ],
 "metadata": {
  "kernelspec": {
   "display_name": "Python 3",
   "language": "python",
   "name": "python3"
  },
  "language_info": {
   "codemirror_mode": {
    "name": "ipython",
    "version": 3
   },
   "file_extension": ".py",
   "mimetype": "text/x-python",
   "name": "python",
   "nbconvert_exporter": "python",
   "pygments_lexer": "ipython3",
   "version": "3.11.13"
  }
 },
 "nbformat": 4,
 "nbformat_minor": 5
}
