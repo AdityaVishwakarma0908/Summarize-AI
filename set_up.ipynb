{
 "cells": [
  {
   "cell_type": "markdown",
   "id": "c67e49f5",
   "metadata": {},
   "source": [
    "## Here are all imports "
   ]
  },
  {
   "cell_type": "code",
   "execution_count": null,
   "id": "44249100",
   "metadata": {},
   "outputs": [],
   "source": [
    "# imports required\n",
    "\n",
    "import requests\n",
    "import json\n",
    "from bs4 import BeautifulSoup\n",
    "from IPython.display import Markdown, display\n",
    "\n",
    "print(\"imports are done ...\")"
   ]
  },
  {
   "cell_type": "markdown",
   "id": "ab0cef54",
   "metadata": {},
   "source": [
    "## Here is the Website class"
   ]
  },
  {
   "cell_type": "code",
   "execution_count": null,
   "id": "04817c3e",
   "metadata": {},
   "outputs": [],
   "source": [
    "headers = {\"User-Agent\": \"Mozilla/5.0 (Windows NT 10.0; Win64; x64) AppleWebKit/537.36 (KHTML, like Gecko) Chrome/117.0.0.0 Safari/537.36\"}\n",
    "\n",
    "class Website:\n",
    "\n",
    "    def __init__(self, url):\n",
    "\n",
    "        self.url = url\n",
    "        response = requests.get(url, headers=headers)\n",
    "        soup = BeautifulSoup(response.content, 'html.parser')\n",
    "        self.title = soup.title.string if soup.title else \"No title found\"\n",
    "        for irrelevant in soup.body([\"script\", \"style\", \"img\", \"input\"]):\n",
    "            irrelevant.decompose()\n",
    "        self.text = soup.body.get_text(separator=\"\\n\", strip=True)\n",
    "\n",
    "print(\"website class is done ...\")"
   ]
  },
  {
   "cell_type": "code",
   "execution_count": null,
   "id": "188f6e28",
   "metadata": {},
   "outputs": [],
   "source": []
  }
 ],
 "metadata": {
  "kernelspec": {
   "display_name": "Python 3",
   "language": "python",
   "name": "python3"
  },
  "language_info": {
   "name": "python",
   "version": "3.11.13"
  }
 },
 "nbformat": 4,
 "nbformat_minor": 5
}
