{
 "cells": [
  {
   "cell_type": "code",
   "execution_count": null,
   "id": "abe40319",
   "metadata": {},
   "outputs": [
    {
     "name": "stdout",
     "output_type": "stream",
     "text": [
      "configuration is done ...\n",
      "imports are done ...\n",
      "website class is done ...\n",
      "prompts are ready ...\n"
     ]
    }
   ],
   "source": [
    "%run ./prompts.ipynb"
   ]
  },
  {
   "cell_type": "markdown",
   "id": "f7985e49",
   "metadata": {},
   "source": [
    "## Here is the Website summerizer"
   ]
  },
  {
   "cell_type": "markdown",
   "id": "dd697b12",
   "metadata": {},
   "source": [
    "### This summarizer gives the summary in Markdown format"
   ]
  },
  {
   "cell_type": "code",
   "execution_count": null,
   "id": "e70ec7ff",
   "metadata": {},
   "outputs": [],
   "source": [
    "def summarize(url):\n",
    "\n",
    "    website = Website(url)\n",
    "\n",
    "    data = {\n",
    "        \"model\": MODEL,\n",
    "        \"messages\": messages_for(website),\n",
    "        \"stream\": False\n",
    "    }\n",
    "\n",
    "    response = requests.post( \n",
    "        OLLAMA_API,\n",
    "        headers = HEADERS,\n",
    "        data = json.dumps(data)\n",
    "    )\n",
    "\n",
    "    result = response.json()[\"message\"][\"content\"]\n",
    "    return result\n",
    "\n",
    "print(\"summary is ready ...\")\n",
    "\n"
   ]
  }
 ],
 "metadata": {
  "kernelspec": {
   "display_name": "Python 3",
   "language": "python",
   "name": "python3"
  },
  "language_info": {
   "codemirror_mode": {
    "name": "ipython",
    "version": 3
   },
   "file_extension": ".py",
   "mimetype": "text/x-python",
   "name": "python",
   "nbconvert_exporter": "python",
   "pygments_lexer": "ipython3",
   "version": "3.11.13"
  }
 },
 "nbformat": 4,
 "nbformat_minor": 5
}
